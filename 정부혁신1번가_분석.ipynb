{
 "cells": [
  {
   "cell_type": "code",
   "execution_count": 5,
   "metadata": {},
   "outputs": [],
   "source": [
    "import pandas as pd\n",
    "import seaborn as sns\n",
    "import matplotlib.pyplot as plt\n",
    "import matplotlib as mpl\n",
    "\n",
    "plt.style.use('ggplot')\n",
    "mpl.rcParams.update({'font.size' : 14})\n",
    "plt.rc('font', family = 'Malgun Gothic')\n",
    "%matplotlib inline"
   ]
  },
  {
   "cell_type": "code",
   "execution_count": 6,
   "metadata": {},
   "outputs": [
    {
     "data": {
      "text/plain": [
       "(236, 8)"
      ]
     },
     "execution_count": 6,
     "metadata": {},
     "output_type": "execute_result"
    }
   ],
   "source": [
    "df = pd.read_csv('data/suggestion.csv')\n",
    "df.shape"
   ]
  },
  {
   "cell_type": "code",
   "execution_count": 7,
   "metadata": {},
   "outputs": [
    {
     "data": {
      "text/html": [
       "<div>\n",
       "<style scoped>\n",
       "    .dataframe tbody tr th:only-of-type {\n",
       "        vertical-align: middle;\n",
       "    }\n",
       "\n",
       "    .dataframe tbody tr th {\n",
       "        vertical-align: top;\n",
       "    }\n",
       "\n",
       "    .dataframe thead th {\n",
       "        text-align: right;\n",
       "    }\n",
       "</style>\n",
       "<table border=\"1\" class=\"dataframe\">\n",
       "  <thead>\n",
       "    <tr style=\"text-align: right;\">\n",
       "      <th></th>\n",
       "      <th>sgld</th>\n",
       "      <th>title</th>\n",
       "      <th>category</th>\n",
       "      <th>content</th>\n",
       "      <th>start</th>\n",
       "      <th>end</th>\n",
       "      <th>vote</th>\n",
       "      <th>author</th>\n",
       "    </tr>\n",
       "  </thead>\n",
       "  <tbody>\n",
       "    <tr>\n",
       "      <td>0</td>\n",
       "      <td>280</td>\n",
       "      <td>행정기관 소속 위원회 위원 개인정보 및 안건 공개 기준에 관한 법적 근거 마련</td>\n",
       "      <td>일반행정</td>\n",
       "      <td>ㅁ 현황ㅇ 법령에 따라 설치되는 행정기관 소속 위원회들이 다수 운영되고  있으며, ...</td>\n",
       "      <td>2019.10.16</td>\n",
       "      <td>2020.01.13</td>\n",
       "      <td>0</td>\n",
       "      <td>법제혁신</td>\n",
       "    </tr>\n",
       "    <tr>\n",
       "      <td>1</td>\n",
       "      <td>279</td>\n",
       "      <td>초과근무 줄이기!</td>\n",
       "      <td>일반행정</td>\n",
       "      <td>1. 문제점* 초과근무를 많이 할수록 일을 열심히 하고 있다고 생각하는 조직 문화*...</td>\n",
       "      <td>2019.10.16</td>\n",
       "      <td>2020.01.13</td>\n",
       "      <td>2</td>\n",
       "      <td>ㅁㄴㅁ</td>\n",
       "    </tr>\n",
       "    <tr>\n",
       "      <td>2</td>\n",
       "      <td>278</td>\n",
       "      <td>원스톱 의원요구자료 제출 시스템 구축</td>\n",
       "      <td>일반행정</td>\n",
       "      <td>​​□ 제안제목○ 원스톱 의원요구자료 제출 시스템 구축□현황 및 문제점○ 각부처 별...</td>\n",
       "      <td>2019.10.15</td>\n",
       "      <td>2020.01.12</td>\n",
       "      <td>0</td>\n",
       "      <td>연시랑</td>\n",
       "    </tr>\n",
       "    <tr>\n",
       "      <td>3</td>\n",
       "      <td>277</td>\n",
       "      <td>예산을 공평하게 분배</td>\n",
       "      <td>사회통합</td>\n",
       "      <td>제목 :  예산을 부처별 공평하게 분배후 차후평가문제점 : 1. 예산편성 삭감원칙으...</td>\n",
       "      <td>2019.10.15</td>\n",
       "      <td>2020.01.12</td>\n",
       "      <td>3</td>\n",
       "      <td>슈퍼맨119</td>\n",
       "    </tr>\n",
       "    <tr>\n",
       "      <td>4</td>\n",
       "      <td>276</td>\n",
       "      <td>공무원 인트라넷 통합메신저</td>\n",
       "      <td>일반행정</td>\n",
       "      <td>부처별,기관별로 자체 인트라넷 메신저가 활성화되며,신속한 업무 추진과 협조에 큰 도...</td>\n",
       "      <td>2019.10.15</td>\n",
       "      <td>2020.01.12</td>\n",
       "      <td>0</td>\n",
       "      <td>페이소스</td>\n",
       "    </tr>\n",
       "  </tbody>\n",
       "</table>\n",
       "</div>"
      ],
      "text/plain": [
       "   sgld                                        title category  \\\n",
       "0   280  행정기관 소속 위원회 위원 개인정보 및 안건 공개 기준에 관한 법적 근거 마련     일반행정   \n",
       "1   279                                    초과근무 줄이기!     일반행정   \n",
       "2   278                         원스톱 의원요구자료 제출 시스템 구축     일반행정   \n",
       "3   277                                  예산을 공평하게 분배     사회통합   \n",
       "4   276                               공무원 인트라넷 통합메신저     일반행정   \n",
       "\n",
       "                                             content       start         end  \\\n",
       "0  ㅁ 현황ㅇ 법령에 따라 설치되는 행정기관 소속 위원회들이 다수 운영되고  있으며, ...  2019.10.16  2020.01.13   \n",
       "1  1. 문제점* 초과근무를 많이 할수록 일을 열심히 하고 있다고 생각하는 조직 문화*...  2019.10.16  2020.01.13   \n",
       "2  ​​□ 제안제목○ 원스톱 의원요구자료 제출 시스템 구축□현황 및 문제점○ 각부처 별...  2019.10.15  2020.01.12   \n",
       "3  제목 :  예산을 부처별 공평하게 분배후 차후평가문제점 : 1. 예산편성 삭감원칙으...  2019.10.15  2020.01.12   \n",
       "4  부처별,기관별로 자체 인트라넷 메신저가 활성화되며,신속한 업무 추진과 협조에 큰 도...  2019.10.15  2020.01.12   \n",
       "\n",
       "   vote  author  \n",
       "0     0    법제혁신  \n",
       "1     2     ㅁㄴㅁ  \n",
       "2     0     연시랑  \n",
       "3     3  슈퍼맨119  \n",
       "4     0    페이소스  "
      ]
     },
     "execution_count": 7,
     "metadata": {},
     "output_type": "execute_result"
    }
   ],
   "source": [
    "df.head()"
   ]
  },
  {
   "cell_type": "code",
   "execution_count": 8,
   "metadata": {},
   "outputs": [
    {
     "data": {
      "text/html": [
       "<div>\n",
       "<style scoped>\n",
       "    .dataframe tbody tr th:only-of-type {\n",
       "        vertical-align: middle;\n",
       "    }\n",
       "\n",
       "    .dataframe tbody tr th {\n",
       "        vertical-align: top;\n",
       "    }\n",
       "\n",
       "    .dataframe thead th {\n",
       "        text-align: right;\n",
       "    }\n",
       "</style>\n",
       "<table border=\"1\" class=\"dataframe\">\n",
       "  <thead>\n",
       "    <tr style=\"text-align: right;\">\n",
       "      <th></th>\n",
       "      <th>sgld</th>\n",
       "      <th>title</th>\n",
       "      <th>category</th>\n",
       "      <th>content</th>\n",
       "      <th>start</th>\n",
       "      <th>end</th>\n",
       "      <th>vote</th>\n",
       "      <th>author</th>\n",
       "    </tr>\n",
       "  </thead>\n",
       "  <tbody>\n",
       "    <tr>\n",
       "      <td>235</td>\n",
       "      <td>1</td>\n",
       "      <td>어린이집 차량내 어린이 질식사고 등에 대한 상세한 대책이 필요하다.</td>\n",
       "      <td>안전</td>\n",
       "      <td>최근 동두천 어린이집 차량내 어린이 질식사고가 발생하여, 이에 대한 여러가지 대책을...</td>\n",
       "      <td>2018.07.24</td>\n",
       "      <td>2018.08.23</td>\n",
       "      <td>14</td>\n",
       "      <td>헌비</td>\n",
       "    </tr>\n",
       "  </tbody>\n",
       "</table>\n",
       "</div>"
      ],
      "text/plain": [
       "     sgld                                  title category  \\\n",
       "235     1  어린이집 차량내 어린이 질식사고 등에 대한 상세한 대책이 필요하다.       안전   \n",
       "\n",
       "                                               content       start  \\\n",
       "235  최근 동두천 어린이집 차량내 어린이 질식사고가 발생하여, 이에 대한 여러가지 대책을...  2018.07.24   \n",
       "\n",
       "            end  vote author  \n",
       "235  2018.08.23    14     헌비  "
      ]
     },
     "execution_count": 8,
     "metadata": {},
     "output_type": "execute_result"
    }
   ],
   "source": [
    "df.tail(1)"
   ]
  },
  {
   "cell_type": "code",
   "execution_count": 9,
   "metadata": {},
   "outputs": [
    {
     "name": "stdout",
     "output_type": "stream",
     "text": [
      "<class 'pandas.core.frame.DataFrame'>\n",
      "RangeIndex: 236 entries, 0 to 235\n",
      "Data columns (total 8 columns):\n",
      "sgld        236 non-null int64\n",
      "title       236 non-null object\n",
      "category    236 non-null object\n",
      "content     234 non-null object\n",
      "start       236 non-null object\n",
      "end         236 non-null object\n",
      "vote        236 non-null int64\n",
      "author      233 non-null object\n",
      "dtypes: int64(2), object(6)\n",
      "memory usage: 14.9+ KB\n"
     ]
    }
   ],
   "source": [
    "df.info()"
   ]
  },
  {
   "cell_type": "code",
   "execution_count": 10,
   "metadata": {},
   "outputs": [
    {
     "data": {
      "text/html": [
       "<div>\n",
       "<style scoped>\n",
       "    .dataframe tbody tr th:only-of-type {\n",
       "        vertical-align: middle;\n",
       "    }\n",
       "\n",
       "    .dataframe tbody tr th {\n",
       "        vertical-align: top;\n",
       "    }\n",
       "\n",
       "    .dataframe thead th {\n",
       "        text-align: right;\n",
       "    }\n",
       "</style>\n",
       "<table border=\"1\" class=\"dataframe\">\n",
       "  <thead>\n",
       "    <tr style=\"text-align: right;\">\n",
       "      <th></th>\n",
       "      <th>sgld</th>\n",
       "      <th>title</th>\n",
       "      <th>category</th>\n",
       "      <th>content</th>\n",
       "      <th>start</th>\n",
       "      <th>end</th>\n",
       "      <th>vote</th>\n",
       "      <th>author</th>\n",
       "    </tr>\n",
       "  </thead>\n",
       "  <tbody>\n",
       "    <tr>\n",
       "      <td>count</td>\n",
       "      <td>236.000000</td>\n",
       "      <td>236</td>\n",
       "      <td>236</td>\n",
       "      <td>234</td>\n",
       "      <td>236</td>\n",
       "      <td>236</td>\n",
       "      <td>236.000000</td>\n",
       "      <td>233</td>\n",
       "    </tr>\n",
       "    <tr>\n",
       "      <td>unique</td>\n",
       "      <td>NaN</td>\n",
       "      <td>236</td>\n",
       "      <td>11</td>\n",
       "      <td>234</td>\n",
       "      <td>145</td>\n",
       "      <td>145</td>\n",
       "      <td>NaN</td>\n",
       "      <td>162</td>\n",
       "    </tr>\n",
       "    <tr>\n",
       "      <td>top</td>\n",
       "      <td>NaN</td>\n",
       "      <td>소통,융합의 행정으로 보다 효율적인 4차산업혁명대응전략마련</td>\n",
       "      <td>일반행정</td>\n",
       "      <td>덥다 덥다 한들 이렇게까지 더운 여름은 정말이지 난생 처음이다! 마치 불가마처럼 내...</td>\n",
       "      <td>2019.08.28</td>\n",
       "      <td>2019.11.25</td>\n",
       "      <td>NaN</td>\n",
       "      <td>올리는 시민</td>\n",
       "    </tr>\n",
       "    <tr>\n",
       "      <td>freq</td>\n",
       "      <td>NaN</td>\n",
       "      <td>1</td>\n",
       "      <td>41</td>\n",
       "      <td>1</td>\n",
       "      <td>13</td>\n",
       "      <td>13</td>\n",
       "      <td>NaN</td>\n",
       "      <td>18</td>\n",
       "    </tr>\n",
       "    <tr>\n",
       "      <td>mean</td>\n",
       "      <td>145.161017</td>\n",
       "      <td>NaN</td>\n",
       "      <td>NaN</td>\n",
       "      <td>NaN</td>\n",
       "      <td>NaN</td>\n",
       "      <td>NaN</td>\n",
       "      <td>33.902542</td>\n",
       "      <td>NaN</td>\n",
       "    </tr>\n",
       "    <tr>\n",
       "      <td>std</td>\n",
       "      <td>83.195486</td>\n",
       "      <td>NaN</td>\n",
       "      <td>NaN</td>\n",
       "      <td>NaN</td>\n",
       "      <td>NaN</td>\n",
       "      <td>NaN</td>\n",
       "      <td>190.674266</td>\n",
       "      <td>NaN</td>\n",
       "    </tr>\n",
       "    <tr>\n",
       "      <td>min</td>\n",
       "      <td>1.000000</td>\n",
       "      <td>NaN</td>\n",
       "      <td>NaN</td>\n",
       "      <td>NaN</td>\n",
       "      <td>NaN</td>\n",
       "      <td>NaN</td>\n",
       "      <td>0.000000</td>\n",
       "      <td>NaN</td>\n",
       "    </tr>\n",
       "    <tr>\n",
       "      <td>25%</td>\n",
       "      <td>66.750000</td>\n",
       "      <td>NaN</td>\n",
       "      <td>NaN</td>\n",
       "      <td>NaN</td>\n",
       "      <td>NaN</td>\n",
       "      <td>NaN</td>\n",
       "      <td>2.000000</td>\n",
       "      <td>NaN</td>\n",
       "    </tr>\n",
       "    <tr>\n",
       "      <td>50%</td>\n",
       "      <td>153.500000</td>\n",
       "      <td>NaN</td>\n",
       "      <td>NaN</td>\n",
       "      <td>NaN</td>\n",
       "      <td>NaN</td>\n",
       "      <td>NaN</td>\n",
       "      <td>4.000000</td>\n",
       "      <td>NaN</td>\n",
       "    </tr>\n",
       "    <tr>\n",
       "      <td>75%</td>\n",
       "      <td>216.250000</td>\n",
       "      <td>NaN</td>\n",
       "      <td>NaN</td>\n",
       "      <td>NaN</td>\n",
       "      <td>NaN</td>\n",
       "      <td>NaN</td>\n",
       "      <td>7.000000</td>\n",
       "      <td>NaN</td>\n",
       "    </tr>\n",
       "    <tr>\n",
       "      <td>max</td>\n",
       "      <td>280.000000</td>\n",
       "      <td>NaN</td>\n",
       "      <td>NaN</td>\n",
       "      <td>NaN</td>\n",
       "      <td>NaN</td>\n",
       "      <td>NaN</td>\n",
       "      <td>2037.000000</td>\n",
       "      <td>NaN</td>\n",
       "    </tr>\n",
       "  </tbody>\n",
       "</table>\n",
       "</div>"
      ],
      "text/plain": [
       "              sgld                             title category  \\\n",
       "count   236.000000                               236      236   \n",
       "unique         NaN                               236       11   \n",
       "top            NaN  소통,융합의 행정으로 보다 효율적인 4차산업혁명대응전략마련     일반행정   \n",
       "freq           NaN                                 1       41   \n",
       "mean    145.161017                               NaN      NaN   \n",
       "std      83.195486                               NaN      NaN   \n",
       "min       1.000000                               NaN      NaN   \n",
       "25%      66.750000                               NaN      NaN   \n",
       "50%     153.500000                               NaN      NaN   \n",
       "75%     216.250000                               NaN      NaN   \n",
       "max     280.000000                               NaN      NaN   \n",
       "\n",
       "                                                  content       start  \\\n",
       "count                                                 234         236   \n",
       "unique                                                234         145   \n",
       "top     덥다 덥다 한들 이렇게까지 더운 여름은 정말이지 난생 처음이다! 마치 불가마처럼 내...  2019.08.28   \n",
       "freq                                                    1          13   \n",
       "mean                                                  NaN         NaN   \n",
       "std                                                   NaN         NaN   \n",
       "min                                                   NaN         NaN   \n",
       "25%                                                   NaN         NaN   \n",
       "50%                                                   NaN         NaN   \n",
       "75%                                                   NaN         NaN   \n",
       "max                                                   NaN         NaN   \n",
       "\n",
       "               end         vote  author  \n",
       "count          236   236.000000     233  \n",
       "unique         145          NaN     162  \n",
       "top     2019.11.25          NaN  올리는 시민  \n",
       "freq            13          NaN      18  \n",
       "mean           NaN    33.902542     NaN  \n",
       "std            NaN   190.674266     NaN  \n",
       "min            NaN     0.000000     NaN  \n",
       "25%            NaN     2.000000     NaN  \n",
       "50%            NaN     4.000000     NaN  \n",
       "75%            NaN     7.000000     NaN  \n",
       "max            NaN  2037.000000     NaN  "
      ]
     },
     "execution_count": 10,
     "metadata": {},
     "output_type": "execute_result"
    }
   ],
   "source": [
    "df.describe(include = 'all')"
   ]
  },
  {
   "cell_type": "code",
   "execution_count": 11,
   "metadata": {},
   "outputs": [
    {
     "data": {
      "text/plain": [
       "일반행정     41\n",
       "안전       33\n",
       "보건복지     32\n",
       "기타       31\n",
       "인권/평등    21\n",
       "국민참여     17\n",
       "상생협력     15\n",
       "환경       14\n",
       "사회통합     13\n",
       "공동체      10\n",
       "반부패청렴     9\n",
       "Name: category, dtype: int64"
      ]
     },
     "execution_count": 11,
     "metadata": {},
     "output_type": "execute_result"
    }
   ],
   "source": [
    "df['category'].value_counts()"
   ]
  },
  {
   "cell_type": "code",
   "execution_count": 12,
   "metadata": {},
   "outputs": [
    {
     "data": {
      "text/plain": [
       "<matplotlib.axes._subplots.AxesSubplot at 0x22248cb1508>"
      ]
     },
     "execution_count": 12,
     "metadata": {},
     "output_type": "execute_result"
    },
    {
     "data": {
      "image/png": "[encoded data removed]",
      "text/plain": [
       "<Figure size 1440x720 with 2 Axes>"
      ]
     },
     "metadata": {
      "needs_background": "light"
     },
     "output_type": "display_data"
    }
   ],
   "source": [
    "figure,(ax1, ax2) = plt.subplots(1,2)\n",
    "figure.set_size_inches(20, 10)\n",
    "sns.countplot(data = df, y = 'category', ax = ax1)\n",
    "sns.barplot(data = df, x = 'vote', y = 'category', ax = ax2)"
   ]
  },
  {
   "cell_type": "code",
   "execution_count": 13,
   "metadata": {},
   "outputs": [
    {
     "data": {
      "text/html": [
       "<div>\n",
       "<style scoped>\n",
       "    .dataframe tbody tr th:only-of-type {\n",
       "        vertical-align: middle;\n",
       "    }\n",
       "\n",
       "    .dataframe tbody tr th {\n",
       "        vertical-align: top;\n",
       "    }\n",
       "\n",
       "    .dataframe thead th {\n",
       "        text-align: right;\n",
       "    }\n",
       "</style>\n",
       "<table border=\"1\" class=\"dataframe\">\n",
       "  <thead>\n",
       "    <tr style=\"text-align: right;\">\n",
       "      <th></th>\n",
       "      <th>category</th>\n",
       "      <th>vote</th>\n",
       "    </tr>\n",
       "  </thead>\n",
       "  <tbody>\n",
       "    <tr>\n",
       "      <td>4</td>\n",
       "      <td>보건복지</td>\n",
       "      <td>5447</td>\n",
       "    </tr>\n",
       "    <tr>\n",
       "      <td>9</td>\n",
       "      <td>일반행정</td>\n",
       "      <td>683</td>\n",
       "    </tr>\n",
       "    <tr>\n",
       "      <td>8</td>\n",
       "      <td>인권/평등</td>\n",
       "      <td>672</td>\n",
       "    </tr>\n",
       "    <tr>\n",
       "      <td>7</td>\n",
       "      <td>안전</td>\n",
       "      <td>354</td>\n",
       "    </tr>\n",
       "    <tr>\n",
       "      <td>2</td>\n",
       "      <td>기타</td>\n",
       "      <td>292</td>\n",
       "    </tr>\n",
       "    <tr>\n",
       "      <td>10</td>\n",
       "      <td>환경</td>\n",
       "      <td>159</td>\n",
       "    </tr>\n",
       "    <tr>\n",
       "      <td>3</td>\n",
       "      <td>반부패청렴</td>\n",
       "      <td>153</td>\n",
       "    </tr>\n",
       "    <tr>\n",
       "      <td>1</td>\n",
       "      <td>국민참여</td>\n",
       "      <td>118</td>\n",
       "    </tr>\n",
       "    <tr>\n",
       "      <td>6</td>\n",
       "      <td>상생협력</td>\n",
       "      <td>51</td>\n",
       "    </tr>\n",
       "    <tr>\n",
       "      <td>5</td>\n",
       "      <td>사회통합</td>\n",
       "      <td>41</td>\n",
       "    </tr>\n",
       "    <tr>\n",
       "      <td>0</td>\n",
       "      <td>공동체</td>\n",
       "      <td>31</td>\n",
       "    </tr>\n",
       "  </tbody>\n",
       "</table>\n",
       "</div>"
      ],
      "text/plain": [
       "   category  vote\n",
       "4      보건복지  5447\n",
       "9      일반행정   683\n",
       "8     인권/평등   672\n",
       "7        안전   354\n",
       "2        기타   292\n",
       "10       환경   159\n",
       "3     반부패청렴   153\n",
       "1      국민참여   118\n",
       "6      상생협력    51\n",
       "5      사회통합    41\n",
       "0       공동체    31"
      ]
     },
     "execution_count": 13,
     "metadata": {},
     "output_type": "execute_result"
    }
   ],
   "source": [
    "df.groupby(['category'])['vote'].sum().reset_index().sort_values('vote', ascending = False)"
   ]
  },
  {
   "cell_type": "code",
   "execution_count": 14,
   "metadata": {},
   "outputs": [
    {
     "data": {
      "text/html": [
       "<div>\n",
       "<style scoped>\n",
       "    .dataframe tbody tr th:only-of-type {\n",
       "        vertical-align: middle;\n",
       "    }\n",
       "\n",
       "    .dataframe tbody tr th {\n",
       "        vertical-align: top;\n",
       "    }\n",
       "\n",
       "    .dataframe thead th {\n",
       "        text-align: right;\n",
       "    }\n",
       "</style>\n",
       "<table border=\"1\" class=\"dataframe\">\n",
       "  <thead>\n",
       "    <tr style=\"text-align: right;\">\n",
       "      <th></th>\n",
       "      <th>category</th>\n",
       "      <th>vote</th>\n",
       "    </tr>\n",
       "  </thead>\n",
       "  <tbody>\n",
       "    <tr>\n",
       "      <td>4</td>\n",
       "      <td>보건복지</td>\n",
       "      <td>5447</td>\n",
       "    </tr>\n",
       "    <tr>\n",
       "      <td>9</td>\n",
       "      <td>일반행정</td>\n",
       "      <td>683</td>\n",
       "    </tr>\n",
       "    <tr>\n",
       "      <td>8</td>\n",
       "      <td>인권/평등</td>\n",
       "      <td>672</td>\n",
       "    </tr>\n",
       "    <tr>\n",
       "      <td>7</td>\n",
       "      <td>안전</td>\n",
       "      <td>354</td>\n",
       "    </tr>\n",
       "    <tr>\n",
       "      <td>2</td>\n",
       "      <td>기타</td>\n",
       "      <td>292</td>\n",
       "    </tr>\n",
       "  </tbody>\n",
       "</table>\n",
       "</div>"
      ],
      "text/plain": [
       "  category  vote\n",
       "4     보건복지  5447\n",
       "9     일반행정   683\n",
       "8    인권/평등   672\n",
       "7       안전   354\n",
       "2       기타   292"
      ]
     },
     "execution_count": 14,
     "metadata": {},
     "output_type": "execute_result"
    }
   ],
   "source": [
    "df_category_vote = pd.DataFrame(df.groupby(['category'])['vote'].sum()).reset_index().sort_values('vote', ascending = False)\n",
    "df_category_vote.head()"
   ]
  },
  {
   "cell_type": "code",
   "execution_count": 15,
   "metadata": {},
   "outputs": [
    {
     "data": {
      "text/html": [
       "<div>\n",
       "<style scoped>\n",
       "    .dataframe tbody tr th:only-of-type {\n",
       "        vertical-align: middle;\n",
       "    }\n",
       "\n",
       "    .dataframe tbody tr th {\n",
       "        vertical-align: top;\n",
       "    }\n",
       "\n",
       "    .dataframe thead th {\n",
       "        text-align: right;\n",
       "    }\n",
       "</style>\n",
       "<table border=\"1\" class=\"dataframe\">\n",
       "  <thead>\n",
       "    <tr style=\"text-align: right;\">\n",
       "      <th></th>\n",
       "      <th>start</th>\n",
       "      <th>end</th>\n",
       "    </tr>\n",
       "  </thead>\n",
       "  <tbody>\n",
       "    <tr>\n",
       "      <td>0</td>\n",
       "      <td>2019-10-16</td>\n",
       "      <td>2020-01-13</td>\n",
       "    </tr>\n",
       "    <tr>\n",
       "      <td>1</td>\n",
       "      <td>2019-10-16</td>\n",
       "      <td>2020-01-13</td>\n",
       "    </tr>\n",
       "    <tr>\n",
       "      <td>2</td>\n",
       "      <td>2019-10-15</td>\n",
       "      <td>2020-01-12</td>\n",
       "    </tr>\n",
       "    <tr>\n",
       "      <td>3</td>\n",
       "      <td>2019-10-15</td>\n",
       "      <td>2020-01-12</td>\n",
       "    </tr>\n",
       "    <tr>\n",
       "      <td>4</td>\n",
       "      <td>2019-10-15</td>\n",
       "      <td>2020-01-12</td>\n",
       "    </tr>\n",
       "  </tbody>\n",
       "</table>\n",
       "</div>"
      ],
      "text/plain": [
       "       start        end\n",
       "0 2019-10-16 2020-01-13\n",
       "1 2019-10-16 2020-01-13\n",
       "2 2019-10-15 2020-01-12\n",
       "3 2019-10-15 2020-01-12\n",
       "4 2019-10-15 2020-01-12"
      ]
     },
     "execution_count": 15,
     "metadata": {},
     "output_type": "execute_result"
    }
   ],
   "source": [
    "df['start'] = pd.to_datetime(df['start'])\n",
    "df['end'] = pd.to_datetime(df['end'])\n",
    "df[['start', 'end']].head()"
   ]
  },
  {
   "cell_type": "code",
   "execution_count": 16,
   "metadata": {},
   "outputs": [
    {
     "data": {
      "text/plain": [
       "sgld                 int64\n",
       "title               object\n",
       "category            object\n",
       "content             object\n",
       "start       datetime64[ns]\n",
       "end         datetime64[ns]\n",
       "vote                 int64\n",
       "author              object\n",
       "dtype: object"
      ]
     },
     "execution_count": 16,
     "metadata": {},
     "output_type": "execute_result"
    }
   ],
   "source": [
    "df.dtypes"
   ]
  },
  {
   "cell_type": "code",
   "execution_count": 17,
   "metadata": {},
   "outputs": [],
   "source": [
    "df['start-date'] = df['start'].dt.date\n",
    "df['start-month'] = df['start'].dt.year.astype(str) + '-' + df['start'].dt.month.astype(str)\n",
    "df['start-weekday'] = df['start'].dt.dayofweek"
   ]
  },
  {
   "cell_type": "code",
   "execution_count": 18,
   "metadata": {},
   "outputs": [
    {
     "data": {
      "text/html": [
       "<div>\n",
       "<style scoped>\n",
       "    .dataframe tbody tr th:only-of-type {\n",
       "        vertical-align: middle;\n",
       "    }\n",
       "\n",
       "    .dataframe tbody tr th {\n",
       "        vertical-align: top;\n",
       "    }\n",
       "\n",
       "    .dataframe thead th {\n",
       "        text-align: right;\n",
       "    }\n",
       "</style>\n",
       "<table border=\"1\" class=\"dataframe\">\n",
       "  <thead>\n",
       "    <tr style=\"text-align: right;\">\n",
       "      <th></th>\n",
       "      <th>start-date</th>\n",
       "      <th>start-month</th>\n",
       "      <th>start-weekday</th>\n",
       "    </tr>\n",
       "  </thead>\n",
       "  <tbody>\n",
       "    <tr>\n",
       "      <td>0</td>\n",
       "      <td>2019-10-16</td>\n",
       "      <td>2019-10</td>\n",
       "      <td>2</td>\n",
       "    </tr>\n",
       "    <tr>\n",
       "      <td>1</td>\n",
       "      <td>2019-10-16</td>\n",
       "      <td>2019-10</td>\n",
       "      <td>2</td>\n",
       "    </tr>\n",
       "    <tr>\n",
       "      <td>2</td>\n",
       "      <td>2019-10-15</td>\n",
       "      <td>2019-10</td>\n",
       "      <td>1</td>\n",
       "    </tr>\n",
       "    <tr>\n",
       "      <td>3</td>\n",
       "      <td>2019-10-15</td>\n",
       "      <td>2019-10</td>\n",
       "      <td>1</td>\n",
       "    </tr>\n",
       "    <tr>\n",
       "      <td>4</td>\n",
       "      <td>2019-10-15</td>\n",
       "      <td>2019-10</td>\n",
       "      <td>1</td>\n",
       "    </tr>\n",
       "  </tbody>\n",
       "</table>\n",
       "</div>"
      ],
      "text/plain": [
       "   start-date start-month  start-weekday\n",
       "0  2019-10-16     2019-10              2\n",
       "1  2019-10-16     2019-10              2\n",
       "2  2019-10-15     2019-10              1\n",
       "3  2019-10-15     2019-10              1\n",
       "4  2019-10-15     2019-10              1"
      ]
     },
     "execution_count": 18,
     "metadata": {},
     "output_type": "execute_result"
    }
   ],
   "source": [
    "df[['start-date', 'start-month', 'start-weekday']].head()"
   ]
  },
  {
   "cell_type": "code",
   "execution_count": 19,
   "metadata": {},
   "outputs": [
    {
     "data": {
      "text/html": [
       "<div>\n",
       "<style scoped>\n",
       "    .dataframe tbody tr th:only-of-type {\n",
       "        vertical-align: middle;\n",
       "    }\n",
       "\n",
       "    .dataframe tbody tr th {\n",
       "        vertical-align: top;\n",
       "    }\n",
       "\n",
       "    .dataframe thead th {\n",
       "        text-align: right;\n",
       "    }\n",
       "</style>\n",
       "<table border=\"1\" class=\"dataframe\">\n",
       "  <thead>\n",
       "    <tr style=\"text-align: right;\">\n",
       "      <th></th>\n",
       "      <th>start-month</th>\n",
       "      <th>start-weekday</th>\n",
       "      <th>weekday</th>\n",
       "    </tr>\n",
       "  </thead>\n",
       "  <tbody>\n",
       "    <tr>\n",
       "      <td>0</td>\n",
       "      <td>2019-10</td>\n",
       "      <td>2</td>\n",
       "      <td>수</td>\n",
       "    </tr>\n",
       "    <tr>\n",
       "      <td>1</td>\n",
       "      <td>2019-10</td>\n",
       "      <td>2</td>\n",
       "      <td>수</td>\n",
       "    </tr>\n",
       "    <tr>\n",
       "      <td>2</td>\n",
       "      <td>2019-10</td>\n",
       "      <td>1</td>\n",
       "      <td>화</td>\n",
       "    </tr>\n",
       "    <tr>\n",
       "      <td>3</td>\n",
       "      <td>2019-10</td>\n",
       "      <td>1</td>\n",
       "      <td>화</td>\n",
       "    </tr>\n",
       "    <tr>\n",
       "      <td>4</td>\n",
       "      <td>2019-10</td>\n",
       "      <td>1</td>\n",
       "      <td>화</td>\n",
       "    </tr>\n",
       "  </tbody>\n",
       "</table>\n",
       "</div>"
      ],
      "text/plain": [
       "  start-month  start-weekday weekday\n",
       "0     2019-10              2       수\n",
       "1     2019-10              2       수\n",
       "2     2019-10              1       화\n",
       "3     2019-10              1       화\n",
       "4     2019-10              1       화"
      ]
     },
     "execution_count": 19,
     "metadata": {},
     "output_type": "execute_result"
    }
   ],
   "source": [
    "weekday_map = {0:'월',1:'화',2:'수',3:'목',4:'금',5:'토',6:'일'}\n",
    "df['weekday'] = df['start-weekday'].apply(lambda x : weekday_map[x])\n",
    "df[['start-month', 'start-weekday', 'weekday']].head()"
   ]
  },
  {
   "cell_type": "code",
   "execution_count": 20,
   "metadata": {},
   "outputs": [
    {
     "data": {
      "text/plain": [
       "<matplotlib.axes._subplots.AxesSubplot at 0x22249046d88>"
      ]
     },
     "execution_count": 20,
     "metadata": {},
     "output_type": "execute_result"
    },
    {
     "data": {
      "image/png": "[encoded data removed]",
      "text/plain": [
       "<Figure size 1440x360 with 1 Axes>"
      ]
     },
     "metadata": {
      "needs_background": "light"
     },
     "output_type": "display_data"
    }
   ],
   "source": [
    "plt.figure(figsize = (20,5))\n",
    "plt.title('월별 제안 수')\n",
    "sns.countplot(data = df.sort_values(by = 'start-date', ascending = True), x = 'start-month')"
   ]
  },
  {
   "cell_type": "code",
   "execution_count": 21,
   "metadata": {},
   "outputs": [
    {
     "data": {
      "text/plain": [
       "<matplotlib.axes._subplots.AxesSubplot at 0x222490f76c8>"
      ]
     },
     "execution_count": 21,
     "metadata": {},
     "output_type": "execute_result"
    },
    {
     "data": {
      "image/png": "[encoded data removed]",
      "text/plain": [
       "<Figure size 1440x360 with 1 Axes>"
      ]
     },
     "metadata": {
      "needs_background": "light"
     },
     "output_type": "display_data"
    }
   ],
   "source": [
    "plt.figure(figsize = (20,5))\n",
    "plt.title('월별 투표수(제안일 기준)')\n",
    "sns.pointplot(data = df.sort_values(by = 'start-date', ascending = True), x = 'start-month', y = 'vote')"
   ]
  },
  {
   "cell_type": "code",
   "execution_count": 22,
   "metadata": {},
   "outputs": [
    {
     "data": {
      "text/plain": [
       "<matplotlib.axes._subplots.AxesSubplot at 0x222490fb6c8>"
      ]
     },
     "execution_count": 22,
     "metadata": {},
     "output_type": "execute_result"
    },
    {
     "data": {
      "image/png": "[encoded data removed]",
      "text/plain": [
       "<Figure size 1440x360 with 1 Axes>"
      ]
     },
     "metadata": {
      "needs_background": "light"
     },
     "output_type": "display_data"
    }
   ],
   "source": [
    "plt.figure(figsize = (20,5))\n",
    "plt.title('월별 투표 수(날짜는 제안일 기준)')\n",
    "sns.barplot(data = df.sort_values(by = 'start-date', ascending = True), x = 'start-month', y = 'vote')"
   ]
  },
  {
   "cell_type": "code",
   "execution_count": 23,
   "metadata": {},
   "outputs": [
    {
     "data": {
      "text/plain": [
       "<matplotlib.axes._subplots.AxesSubplot at 0x22249260b88>"
      ]
     },
     "execution_count": 23,
     "metadata": {},
     "output_type": "execute_result"
    },
    {
     "data": {
      "image/png": "[encoded data removed]",
      "text/plain": [
       "<Figure size 1440x360 with 1 Axes>"
      ]
     },
     "metadata": {
      "needs_background": "light"
     },
     "output_type": "display_data"
    }
   ],
   "source": [
    "plt.figure(figsize = (20,5))\n",
    "plt.title('요일별 제안 수')\n",
    "sns.countplot(data = df.sort_values(by = 'start-weekday'), x = 'weekday')"
   ]
  },
  {
   "cell_type": "code",
   "execution_count": 24,
   "metadata": {},
   "outputs": [
    {
     "data": {
      "text/plain": [
       "<matplotlib.axes._subplots.AxesSubplot at 0x2224924c908>"
      ]
     },
     "execution_count": 24,
     "metadata": {},
     "output_type": "execute_result"
    },
    {
     "data": {
      "image/png": "[encoded data removed]",
      "text/plain": [
       "<Figure size 1440x360 with 1 Axes>"
      ]
     },
     "metadata": {
      "needs_background": "light"
     },
     "output_type": "display_data"
    }
   ],
   "source": [
    "plt.figure(figsize = (20,5))\n",
    "plt.title('요일별 투표 수(제안일 기준)')\n",
    "sns.barplot(data = df.sort_values(by = 'start-weekday'), x = 'weekday', y = 'vote')"
   ]
  },
  {
   "cell_type": "code",
   "execution_count": 25,
   "metadata": {},
   "outputs": [
    {
     "data": {
      "text/plain": [
       "<matplotlib.axes._subplots.AxesSubplot at 0x222493b7748>"
      ]
     },
     "execution_count": 25,
     "metadata": {},
     "output_type": "execute_result"
    },
    {
     "data": {
      "image/png": "[encoded data removed]",
      "text/plain": [
       "<Figure size 1440x360 with 1 Axes>"
      ]
     },
     "metadata": {
      "needs_background": "light"
     },
     "output_type": "display_data"
    }
   ],
   "source": [
    "plt.figure(figsize = (20,5))\n",
    "plt.title('일자별 제안 수')\n",
    "plt.xticks(rotation = 60, ha = 'right')\n",
    "sns.countplot(data = df.sort_values(by = 'start-date'), x = 'start-date')"
   ]
  },
  {
   "cell_type": "code",
   "execution_count": 26,
   "metadata": {},
   "outputs": [
    {
     "data": {
      "text/plain": [
       "2019-10-15    3\n",
       "2019-10-16    2\n",
       "Name: start-date, dtype: int64"
      ]
     },
     "execution_count": 26,
     "metadata": {},
     "output_type": "execute_result"
    }
   ],
   "source": [
    "df_10_10 = df[df['start']>'2019-10-10']\n",
    "df_10_10['start-date'].value_counts()"
   ]
  },
  {
   "cell_type": "code",
   "execution_count": 27,
   "metadata": {},
   "outputs": [
    {
     "data": {
      "text/plain": [
       "<matplotlib.axes._subplots.AxesSubplot at 0x2224a491108>"
      ]
     },
     "execution_count": 27,
     "metadata": {},
     "output_type": "execute_result"
    },
    {
     "data": {
      "image/png": "[encoded data removed]",
      "text/plain": [
       "<Figure size 1440x360 with 1 Axes>"
      ]
     },
     "metadata": {
      "needs_background": "light"
     },
     "output_type": "display_data"
    }
   ],
   "source": [
    "plt.figure(figsize = (20,5))\n",
    "plt.xticks(rotation = 60, ha = 'right')\n",
    "plt.title('일자별 투표 수(제안일 기준)')\n",
    "sns.pointplot(data = df.sort_values(by = 'start-date'), x = 'start-date', y = 'vote')"
   ]
  },
  {
   "cell_type": "code",
   "execution_count": 28,
   "metadata": {},
   "outputs": [
    {
     "data": {
      "text/html": [
       "<div>\n",
       "<style scoped>\n",
       "    .dataframe tbody tr th:only-of-type {\n",
       "        vertical-align: middle;\n",
       "    }\n",
       "\n",
       "    .dataframe tbody tr th {\n",
       "        vertical-align: top;\n",
       "    }\n",
       "\n",
       "    .dataframe thead th {\n",
       "        text-align: right;\n",
       "    }\n",
       "</style>\n",
       "<table border=\"1\" class=\"dataframe\">\n",
       "  <thead>\n",
       "    <tr style=\"text-align: right;\">\n",
       "      <th></th>\n",
       "      <th>sgld</th>\n",
       "      <th>title</th>\n",
       "      <th>category</th>\n",
       "      <th>content</th>\n",
       "      <th>start</th>\n",
       "      <th>end</th>\n",
       "      <th>vote</th>\n",
       "      <th>author</th>\n",
       "      <th>start-date</th>\n",
       "      <th>start-month</th>\n",
       "      <th>start-weekday</th>\n",
       "      <th>weekday</th>\n",
       "    </tr>\n",
       "  </thead>\n",
       "  <tbody>\n",
       "    <tr>\n",
       "      <td>0</td>\n",
       "      <td>280</td>\n",
       "      <td>행정기관 소속 위원회 위원 개인정보 및 안건 공개 기준에 관한 법적 근거 마련</td>\n",
       "      <td>일반행정</td>\n",
       "      <td>ㅁ 현황ㅇ 법령에 따라 설치되는 행정기관 소속 위원회들이 다수 운영되고  있으며, ...</td>\n",
       "      <td>2019-10-16</td>\n",
       "      <td>2020-01-13</td>\n",
       "      <td>0</td>\n",
       "      <td>법제혁신</td>\n",
       "      <td>2019-10-16</td>\n",
       "      <td>2019-10</td>\n",
       "      <td>2</td>\n",
       "      <td>수</td>\n",
       "    </tr>\n",
       "    <tr>\n",
       "      <td>1</td>\n",
       "      <td>279</td>\n",
       "      <td>초과근무 줄이기!</td>\n",
       "      <td>일반행정</td>\n",
       "      <td>1. 문제점* 초과근무를 많이 할수록 일을 열심히 하고 있다고 생각하는 조직 문화*...</td>\n",
       "      <td>2019-10-16</td>\n",
       "      <td>2020-01-13</td>\n",
       "      <td>2</td>\n",
       "      <td>ㅁㄴㅁ</td>\n",
       "      <td>2019-10-16</td>\n",
       "      <td>2019-10</td>\n",
       "      <td>2</td>\n",
       "      <td>수</td>\n",
       "    </tr>\n",
       "    <tr>\n",
       "      <td>2</td>\n",
       "      <td>278</td>\n",
       "      <td>원스톱 의원요구자료 제출 시스템 구축</td>\n",
       "      <td>일반행정</td>\n",
       "      <td>​​□ 제안제목○ 원스톱 의원요구자료 제출 시스템 구축□현황 및 문제점○ 각부처 별...</td>\n",
       "      <td>2019-10-15</td>\n",
       "      <td>2020-01-12</td>\n",
       "      <td>0</td>\n",
       "      <td>연시랑</td>\n",
       "      <td>2019-10-15</td>\n",
       "      <td>2019-10</td>\n",
       "      <td>1</td>\n",
       "      <td>화</td>\n",
       "    </tr>\n",
       "    <tr>\n",
       "      <td>3</td>\n",
       "      <td>277</td>\n",
       "      <td>예산을 공평하게 분배</td>\n",
       "      <td>사회통합</td>\n",
       "      <td>제목 :  예산을 부처별 공평하게 분배후 차후평가문제점 : 1. 예산편성 삭감원칙으...</td>\n",
       "      <td>2019-10-15</td>\n",
       "      <td>2020-01-12</td>\n",
       "      <td>3</td>\n",
       "      <td>슈퍼맨119</td>\n",
       "      <td>2019-10-15</td>\n",
       "      <td>2019-10</td>\n",
       "      <td>1</td>\n",
       "      <td>화</td>\n",
       "    </tr>\n",
       "    <tr>\n",
       "      <td>4</td>\n",
       "      <td>276</td>\n",
       "      <td>공무원 인트라넷 통합메신저</td>\n",
       "      <td>일반행정</td>\n",
       "      <td>부처별,기관별로 자체 인트라넷 메신저가 활성화되며,신속한 업무 추진과 협조에 큰 도...</td>\n",
       "      <td>2019-10-15</td>\n",
       "      <td>2020-01-12</td>\n",
       "      <td>0</td>\n",
       "      <td>페이소스</td>\n",
       "      <td>2019-10-15</td>\n",
       "      <td>2019-10</td>\n",
       "      <td>1</td>\n",
       "      <td>화</td>\n",
       "    </tr>\n",
       "  </tbody>\n",
       "</table>\n",
       "</div>"
      ],
      "text/plain": [
       "   sgld                                        title category  \\\n",
       "0   280  행정기관 소속 위원회 위원 개인정보 및 안건 공개 기준에 관한 법적 근거 마련     일반행정   \n",
       "1   279                                    초과근무 줄이기!     일반행정   \n",
       "2   278                         원스톱 의원요구자료 제출 시스템 구축     일반행정   \n",
       "3   277                                  예산을 공평하게 분배     사회통합   \n",
       "4   276                               공무원 인트라넷 통합메신저     일반행정   \n",
       "\n",
       "                                             content      start        end  \\\n",
       "0  ㅁ 현황ㅇ 법령에 따라 설치되는 행정기관 소속 위원회들이 다수 운영되고  있으며, ... 2019-10-16 2020-01-13   \n",
       "1  1. 문제점* 초과근무를 많이 할수록 일을 열심히 하고 있다고 생각하는 조직 문화*... 2019-10-16 2020-01-13   \n",
       "2  ​​□ 제안제목○ 원스톱 의원요구자료 제출 시스템 구축□현황 및 문제점○ 각부처 별... 2019-10-15 2020-01-12   \n",
       "3  제목 :  예산을 부처별 공평하게 분배후 차후평가문제점 : 1. 예산편성 삭감원칙으... 2019-10-15 2020-01-12   \n",
       "4  부처별,기관별로 자체 인트라넷 메신저가 활성화되며,신속한 업무 추진과 협조에 큰 도... 2019-10-15 2020-01-12   \n",
       "\n",
       "   vote  author  start-date start-month  start-weekday weekday  \n",
       "0     0    법제혁신  2019-10-16     2019-10              2       수  \n",
       "1     2     ㅁㄴㅁ  2019-10-16     2019-10              2       수  \n",
       "2     0     연시랑  2019-10-15     2019-10              1       화  \n",
       "3     3  슈퍼맨119  2019-10-15     2019-10              1       화  \n",
       "4     0    페이소스  2019-10-15     2019-10              1       화  "
      ]
     },
     "execution_count": 28,
     "metadata": {},
     "output_type": "execute_result"
    }
   ],
   "source": [
    "df.head()"
   ]
  },
  {
   "cell_type": "code",
   "execution_count": 29,
   "metadata": {},
   "outputs": [
    {
     "data": {
      "text/plain": [
       "<matplotlib.axes._subplots.AxesSubplot at 0x2224a717d48>"
      ]
     },
     "execution_count": 29,
     "metadata": {},
     "output_type": "execute_result"
    },
    {
     "data": {
      "image/png": "[encoded data removed]",
      "text/plain": [
       "<Figure size 1440x360 with 1 Axes>"
      ]
     },
     "metadata": {
      "needs_background": "light"
     },
     "output_type": "display_data"
    }
   ],
   "source": [
    "plt.figure(figsize = (20,5))\n",
    "plt.xticks(rotation = 60, ha = 'right')\n",
    "plt.title('2018년 10월 일자별 투표 수(제안일 기준)')\n",
    "df_2018_10 = df[(df['start']>='2018-10-01')&(df['start']<'2018-11-01')]\n",
    "sns.pointplot(data = df_2018_10.sort_values(by = 'start-date'), x = 'start-date', y = 'vote')"
   ]
  },
  {
   "cell_type": "code",
   "execution_count": 30,
   "metadata": {},
   "outputs": [
    {
     "name": "stderr",
     "output_type": "stream",
     "text": [
      "C:\\ProgramData\\Anaconda3\\lib\\site-packages\\pandas\\core\\indexing.py:1418: FutureWarning: \n",
      "Passing list-likes to .loc or [] with any missing label will raise\n",
      "KeyError in the future, you can use .reindex() as an alternative.\n",
      "\n",
      "See the documentation here:\n",
      "https://pandas.pydata.org/pandas-docs/stable/user_guide/indexing.html#deprecate-loc-reindex-listlike\n",
      "  return self._getitem_tuple(key)\n"
     ]
    },
    {
     "data": {
      "text/html": [
       "<div>\n",
       "<style scoped>\n",
       "    .dataframe tbody tr th:only-of-type {\n",
       "        vertical-align: middle;\n",
       "    }\n",
       "\n",
       "    .dataframe tbody tr th {\n",
       "        vertical-align: top;\n",
       "    }\n",
       "\n",
       "    .dataframe thead th {\n",
       "        text-align: right;\n",
       "    }\n",
       "</style>\n",
       "<table border=\"1\" class=\"dataframe\">\n",
       "  <thead>\n",
       "    <tr style=\"text-align: right;\">\n",
       "      <th></th>\n",
       "      <th>sgId</th>\n",
       "      <th>start</th>\n",
       "      <th>title</th>\n",
       "      <th>category</th>\n",
       "      <th>content</th>\n",
       "    </tr>\n",
       "  </thead>\n",
       "  <tbody>\n",
       "    <tr>\n",
       "      <td>179</td>\n",
       "      <td>NaN</td>\n",
       "      <td>2018-10-02</td>\n",
       "      <td>난임지원확대 첫아이 횟수패지</td>\n",
       "      <td>보건복지</td>\n",
       "      <td>요즘 뉴스에 심심치않게 저출산 관련내용이많이나옵니다정부에선 많은 계획을말했지만 정작...</td>\n",
       "    </tr>\n",
       "  </tbody>\n",
       "</table>\n",
       "</div>"
      ],
      "text/plain": [
       "     sgId      start            title category  \\\n",
       "179   NaN 2018-10-02  난임지원확대 첫아이 횟수패지     보건복지   \n",
       "\n",
       "                                               content  \n",
       "179  요즘 뉴스에 심심치않게 저출산 관련내용이많이나옵니다정부에선 많은 계획을말했지만 정작...  "
      ]
     },
     "execution_count": 30,
     "metadata": {},
     "output_type": "execute_result"
    }
   ],
   "source": [
    "df.loc[df['vote']>2000, [\"sgId\", \"start\", \"title\", \"category\", \"content\"]]"
   ]
  },
  {
   "cell_type": "code",
   "execution_count": 31,
   "metadata": {},
   "outputs": [
    {
     "data": {
      "text/plain": [
       "<matplotlib.axes._subplots.AxesSubplot at 0x2224a7d4c88>"
      ]
     },
     "execution_count": 31,
     "metadata": {},
     "output_type": "execute_result"
    },
    {
     "data": {
      "image/png": "[encoded data removed]",
      "text/plain": [
       "<Figure size 1440x360 with 1 Axes>"
      ]
     },
     "metadata": {
      "needs_background": "light"
     },
     "output_type": "display_data"
    }
   ],
   "source": [
    "plt.figure(figsize = (20,5))\n",
    "plt.xticks(rotation = 60, ha = 'right')\n",
    "plt.title('2019년 일자별 투표 수(제안일 기준)')\n",
    "df_2019 = df[df['start']>'2018-12-31']\n",
    "sns.pointplot(data = df_2019.sort_values(by = 'start-date'), x = 'start-date', y = 'vote')"
   ]
  },
  {
   "cell_type": "code",
   "execution_count": 32,
   "metadata": {},
   "outputs": [
    {
     "data": {
      "text/plain": [
       "<matplotlib.axes._subplots.AxesSubplot at 0x2224ac9d348>"
      ]
     },
     "execution_count": 32,
     "metadata": {},
     "output_type": "execute_result"
    },
    {
     "data": {
      "image/png": "[encoded data removed]",
      "text/plain": [
       "<Figure size 432x288 with 1 Axes>"
      ]
     },
     "metadata": {
      "needs_background": "light"
     },
     "output_type": "display_data"
    }
   ],
   "source": [
    "from scipy.stats import norm\n",
    "sns.distplot(df['vote'], fit = norm)"
   ]
  },
  {
   "cell_type": "code",
   "execution_count": 33,
   "metadata": {},
   "outputs": [
    {
     "data": {
      "text/plain": [
       "(183, 12)"
      ]
     },
     "execution_count": 33,
     "metadata": {},
     "output_type": "execute_result"
    }
   ],
   "source": [
    "df[df['end']<'2019-10-16'].shape"
   ]
  },
  {
   "cell_type": "code",
   "execution_count": 34,
   "metadata": {},
   "outputs": [],
   "source": [
    "df['close'] = df['end']<'2019-10-16'"
   ]
  },
  {
   "cell_type": "code",
   "execution_count": 35,
   "metadata": {},
   "outputs": [
    {
     "data": {
      "text/plain": [
       "True     183\n",
       "False     53\n",
       "Name: close, dtype: int64"
      ]
     },
     "execution_count": 35,
     "metadata": {},
     "output_type": "execute_result"
    }
   ],
   "source": [
    "df['close'].value_counts()"
   ]
  },
  {
   "cell_type": "code",
   "execution_count": 36,
   "metadata": {},
   "outputs": [
    {
     "data": {
      "text/html": [
       "<div>\n",
       "<style scoped>\n",
       "    .dataframe tbody tr th:only-of-type {\n",
       "        vertical-align: middle;\n",
       "    }\n",
       "\n",
       "    .dataframe tbody tr th {\n",
       "        vertical-align: top;\n",
       "    }\n",
       "\n",
       "    .dataframe thead th {\n",
       "        text-align: right;\n",
       "    }\n",
       "</style>\n",
       "<table border=\"1\" class=\"dataframe\">\n",
       "  <thead>\n",
       "    <tr style=\"text-align: right;\">\n",
       "      <th></th>\n",
       "      <th>sgld</th>\n",
       "      <th>title</th>\n",
       "      <th>category</th>\n",
       "      <th>content</th>\n",
       "      <th>vote</th>\n",
       "      <th>start</th>\n",
       "    </tr>\n",
       "  </thead>\n",
       "  <tbody>\n",
       "    <tr>\n",
       "      <td>179</td>\n",
       "      <td>64</td>\n",
       "      <td>난임지원확대 첫아이 횟수패지</td>\n",
       "      <td>보건복지</td>\n",
       "      <td>요즘 뉴스에 심심치않게 저출산 관련내용이많이나옵니다정부에선 많은 계획을말했지만 정작...</td>\n",
       "      <td>2037</td>\n",
       "      <td>2018-10-02</td>\n",
       "    </tr>\n",
       "    <tr>\n",
       "      <td>180</td>\n",
       "      <td>63</td>\n",
       "      <td>난임 건강보험 지원, 임산부처럼 바우처로 제공해 주세요</td>\n",
       "      <td>보건복지</td>\n",
       "      <td>현황)2017년 10월부터 법률혼 난임부부에게 인공수정 3회, 체외수정 신선 4회,...</td>\n",
       "      <td>1693</td>\n",
       "      <td>2018-10-02</td>\n",
       "    </tr>\n",
       "    <tr>\n",
       "      <td>178</td>\n",
       "      <td>65</td>\n",
       "      <td>보건소에서 난임시술 관련주사 맞게해주세요</td>\n",
       "      <td>보건복지</td>\n",
       "      <td>시험관을 하게되면 이식후 약2주간 프로게스테론 주사를 처방받게됩니다피검사후 임신수치...</td>\n",
       "      <td>1115</td>\n",
       "      <td>2018-10-03</td>\n",
       "    </tr>\n",
       "    <tr>\n",
       "      <td>177</td>\n",
       "      <td>66</td>\n",
       "      <td>유전병인 희귀병 소뇌위축증 환우들을 도와주세요</td>\n",
       "      <td>보건복지</td>\n",
       "      <td>안녕하세요 저희 외갓집 어른들이 앓고 있는 소뇌위축증을알려드리려합니다.총 6남매중 ...</td>\n",
       "      <td>460</td>\n",
       "      <td>2018-10-05</td>\n",
       "    </tr>\n",
       "    <tr>\n",
       "      <td>106</td>\n",
       "      <td>165</td>\n",
       "      <td>공무원도 근로자입니다. 5월 1일 근로자의 날 공무원도 쉴 수 있도록 해주십시오.</td>\n",
       "      <td>인권/평등</td>\n",
       "      <td>1.근로자의 날(5월1일)은 세계적으로May-day로 기념하며 노동시간 기준을8시간...</td>\n",
       "      <td>409</td>\n",
       "      <td>2019-04-25</td>\n",
       "    </tr>\n",
       "    <tr>\n",
       "      <td>119</td>\n",
       "      <td>152</td>\n",
       "      <td>사회적경제 활성화를 위한 계약제도 개선 제안</td>\n",
       "      <td>일반행정</td>\n",
       "      <td>저는 서울특별시 사회적경제지원센터 공공구매영업지원단을 책임지고 있는 이철종입니다.사...</td>\n",
       "      <td>194</td>\n",
       "      <td>2019-02-24</td>\n",
       "    </tr>\n",
       "    <tr>\n",
       "      <td>207</td>\n",
       "      <td>32</td>\n",
       "      <td>종이 당직일지 이제는 안녕!</td>\n",
       "      <td>일반행정</td>\n",
       "      <td>과제명 : 당직근무일지 전산화* 꼭 필요시 월별 출력 보관국가공무원 복무규칙 제25...</td>\n",
       "      <td>167</td>\n",
       "      <td>2018-09-04</td>\n",
       "    </tr>\n",
       "    <tr>\n",
       "      <td>160</td>\n",
       "      <td>85</td>\n",
       "      <td>올바른 119신고의 중요성과 신고방법 교육 의무화</td>\n",
       "      <td>안전</td>\n",
       "      <td>안녕하세요!현재 시민안전파수꾼 청년 애드보케트라는 활동을 하면서 시민들의 초기대응능...</td>\n",
       "      <td>133</td>\n",
       "      <td>2018-10-22</td>\n",
       "    </tr>\n",
       "    <tr>\n",
       "      <td>227</td>\n",
       "      <td>10</td>\n",
       "      <td>불법 체류자, 외국인 근로자를 제한하고, 대한민국 국민의 일자리를 보호해 주십시오.</td>\n",
       "      <td>기타</td>\n",
       "      <td>&lt;현재 불법 체류자. 외국인 근로자 급증이 사회적 문제로 떠오르고 있습니다.&gt;현재 ...</td>\n",
       "      <td>132</td>\n",
       "      <td>2018-08-06</td>\n",
       "    </tr>\n",
       "    <tr>\n",
       "      <td>172</td>\n",
       "      <td>71</td>\n",
       "      <td>인공지능 담당관(CoAIO, Chief of Artificial Intelligen...</td>\n",
       "      <td>일반행정</td>\n",
       "      <td>저는 1990년 후반에 정보화담당관(CIO) 제도 도입에 대한 의견을 제시하여 시행...</td>\n",
       "      <td>126</td>\n",
       "      <td>2018-10-10</td>\n",
       "    </tr>\n",
       "  </tbody>\n",
       "</table>\n",
       "</div>"
      ],
      "text/plain": [
       "     sgld                                              title category  \\\n",
       "179    64                                    난임지원확대 첫아이 횟수패지     보건복지   \n",
       "180    63                     난임 건강보험 지원, 임산부처럼 바우처로 제공해 주세요     보건복지   \n",
       "178    65                             보건소에서 난임시술 관련주사 맞게해주세요     보건복지   \n",
       "177    66                          유전병인 희귀병 소뇌위축증 환우들을 도와주세요     보건복지   \n",
       "106   165      공무원도 근로자입니다. 5월 1일 근로자의 날 공무원도 쉴 수 있도록 해주십시오.    인권/평등   \n",
       "119   152                           사회적경제 활성화를 위한 계약제도 개선 제안     일반행정   \n",
       "207    32                                    종이 당직일지 이제는 안녕!     일반행정   \n",
       "160    85                        올바른 119신고의 중요성과 신고방법 교육 의무화       안전   \n",
       "227    10     불법 체류자, 외국인 근로자를 제한하고, 대한민국 국민의 일자리를 보호해 주십시오.       기타   \n",
       "172    71  인공지능 담당관(CoAIO, Chief of Artificial Intelligen...     일반행정   \n",
       "\n",
       "                                               content  vote      start  \n",
       "179  요즘 뉴스에 심심치않게 저출산 관련내용이많이나옵니다정부에선 많은 계획을말했지만 정작...  2037 2018-10-02  \n",
       "180  현황)2017년 10월부터 법률혼 난임부부에게 인공수정 3회, 체외수정 신선 4회,...  1693 2018-10-02  \n",
       "178  시험관을 하게되면 이식후 약2주간 프로게스테론 주사를 처방받게됩니다피검사후 임신수치...  1115 2018-10-03  \n",
       "177  안녕하세요 저희 외갓집 어른들이 앓고 있는 소뇌위축증을알려드리려합니다.총 6남매중 ...   460 2018-10-05  \n",
       "106  1.근로자의 날(5월1일)은 세계적으로May-day로 기념하며 노동시간 기준을8시간...   409 2019-04-25  \n",
       "119  저는 서울특별시 사회적경제지원센터 공공구매영업지원단을 책임지고 있는 이철종입니다.사...   194 2019-02-24  \n",
       "207  과제명 : 당직근무일지 전산화* 꼭 필요시 월별 출력 보관국가공무원 복무규칙 제25...   167 2018-09-04  \n",
       "160  안녕하세요!현재 시민안전파수꾼 청년 애드보케트라는 활동을 하면서 시민들의 초기대응능...   133 2018-10-22  \n",
       "227  <현재 불법 체류자. 외국인 근로자 급증이 사회적 문제로 떠오르고 있습니다.>현재 ...   132 2018-08-06  \n",
       "172  저는 1990년 후반에 정보화담당관(CIO) 제도 도입에 대한 의견을 제시하여 시행...   126 2018-10-10  "
      ]
     },
     "execution_count": 36,
     "metadata": {},
     "output_type": "execute_result"
    }
   ],
   "source": [
    "preview_columns = ['sgld', 'title', 'category', 'content', 'vote', 'start']\n",
    "df_top_vote = df.sort_values(by = 'vote', ascending = False).head(10)\n",
    "df_top_vote[preview_columns]"
   ]
  },
  {
   "cell_type": "code",
   "execution_count": 37,
   "metadata": {},
   "outputs": [
    {
     "name": "stdout",
     "output_type": "stream",
     "text": [
      "100개 이상 투표를 받은 제안 :  13\n"
     ]
    },
    {
     "data": {
      "text/html": [
       "<div>\n",
       "<style scoped>\n",
       "    .dataframe tbody tr th:only-of-type {\n",
       "        vertical-align: middle;\n",
       "    }\n",
       "\n",
       "    .dataframe tbody tr th {\n",
       "        vertical-align: top;\n",
       "    }\n",
       "\n",
       "    .dataframe thead th {\n",
       "        text-align: right;\n",
       "    }\n",
       "</style>\n",
       "<table border=\"1\" class=\"dataframe\">\n",
       "  <thead>\n",
       "    <tr style=\"text-align: right;\">\n",
       "      <th></th>\n",
       "      <th>sgld</th>\n",
       "      <th>title</th>\n",
       "      <th>category</th>\n",
       "      <th>content</th>\n",
       "      <th>vote</th>\n",
       "      <th>start</th>\n",
       "    </tr>\n",
       "  </thead>\n",
       "  <tbody>\n",
       "    <tr>\n",
       "      <td>106</td>\n",
       "      <td>165</td>\n",
       "      <td>공무원도 근로자입니다. 5월 1일 근로자의 날 공무원도 쉴 수 있도록 해주십시오.</td>\n",
       "      <td>인권/평등</td>\n",
       "      <td>1.근로자의 날(5월1일)은 세계적으로May-day로 기념하며 노동시간 기준을8시간...</td>\n",
       "      <td>409</td>\n",
       "      <td>2019-04-25</td>\n",
       "    </tr>\n",
       "    <tr>\n",
       "      <td>119</td>\n",
       "      <td>152</td>\n",
       "      <td>사회적경제 활성화를 위한 계약제도 개선 제안</td>\n",
       "      <td>일반행정</td>\n",
       "      <td>저는 서울특별시 사회적경제지원센터 공공구매영업지원단을 책임지고 있는 이철종입니다.사...</td>\n",
       "      <td>194</td>\n",
       "      <td>2019-02-24</td>\n",
       "    </tr>\n",
       "    <tr>\n",
       "      <td>140</td>\n",
       "      <td>131</td>\n",
       "      <td>공직자 임용 및 선출직 입후보 배제 원칙 강화</td>\n",
       "      <td>반부패청렴</td>\n",
       "      <td>선출직이든 정무직이든 일반직이든 입법 행정 사법 3부 및 전국 지자체의모든 공무원은...</td>\n",
       "      <td>119</td>\n",
       "      <td>2018-12-05</td>\n",
       "    </tr>\n",
       "    <tr>\n",
       "      <td>160</td>\n",
       "      <td>85</td>\n",
       "      <td>올바른 119신고의 중요성과 신고방법 교육 의무화</td>\n",
       "      <td>안전</td>\n",
       "      <td>안녕하세요!현재 시민안전파수꾼 청년 애드보케트라는 활동을 하면서 시민들의 초기대응능...</td>\n",
       "      <td>133</td>\n",
       "      <td>2018-10-22</td>\n",
       "    </tr>\n",
       "    <tr>\n",
       "      <td>172</td>\n",
       "      <td>71</td>\n",
       "      <td>인공지능 담당관(CoAIO, Chief of Artificial Intelligen...</td>\n",
       "      <td>일반행정</td>\n",
       "      <td>저는 1990년 후반에 정보화담당관(CIO) 제도 도입에 대한 의견을 제시하여 시행...</td>\n",
       "      <td>126</td>\n",
       "      <td>2018-10-10</td>\n",
       "    </tr>\n",
       "    <tr>\n",
       "      <td>177</td>\n",
       "      <td>66</td>\n",
       "      <td>유전병인 희귀병 소뇌위축증 환우들을 도와주세요</td>\n",
       "      <td>보건복지</td>\n",
       "      <td>안녕하세요 저희 외갓집 어른들이 앓고 있는 소뇌위축증을알려드리려합니다.총 6남매중 ...</td>\n",
       "      <td>460</td>\n",
       "      <td>2018-10-05</td>\n",
       "    </tr>\n",
       "    <tr>\n",
       "      <td>178</td>\n",
       "      <td>65</td>\n",
       "      <td>보건소에서 난임시술 관련주사 맞게해주세요</td>\n",
       "      <td>보건복지</td>\n",
       "      <td>시험관을 하게되면 이식후 약2주간 프로게스테론 주사를 처방받게됩니다피검사후 임신수치...</td>\n",
       "      <td>1115</td>\n",
       "      <td>2018-10-03</td>\n",
       "    </tr>\n",
       "    <tr>\n",
       "      <td>179</td>\n",
       "      <td>64</td>\n",
       "      <td>난임지원확대 첫아이 횟수패지</td>\n",
       "      <td>보건복지</td>\n",
       "      <td>요즘 뉴스에 심심치않게 저출산 관련내용이많이나옵니다정부에선 많은 계획을말했지만 정작...</td>\n",
       "      <td>2037</td>\n",
       "      <td>2018-10-02</td>\n",
       "    </tr>\n",
       "    <tr>\n",
       "      <td>180</td>\n",
       "      <td>63</td>\n",
       "      <td>난임 건강보험 지원, 임산부처럼 바우처로 제공해 주세요</td>\n",
       "      <td>보건복지</td>\n",
       "      <td>현황)2017년 10월부터 법률혼 난임부부에게 인공수정 3회, 체외수정 신선 4회,...</td>\n",
       "      <td>1693</td>\n",
       "      <td>2018-10-02</td>\n",
       "    </tr>\n",
       "    <tr>\n",
       "      <td>207</td>\n",
       "      <td>32</td>\n",
       "      <td>종이 당직일지 이제는 안녕!</td>\n",
       "      <td>일반행정</td>\n",
       "      <td>과제명 : 당직근무일지 전산화* 꼭 필요시 월별 출력 보관국가공무원 복무규칙 제25...</td>\n",
       "      <td>167</td>\n",
       "      <td>2018-09-04</td>\n",
       "    </tr>\n",
       "    <tr>\n",
       "      <td>219</td>\n",
       "      <td>19</td>\n",
       "      <td>기후변화에 대한 능동적 대응과 국가 산업생태계 조성을 위한, 마중물 필요</td>\n",
       "      <td>환경</td>\n",
       "      <td>○ 기후변화대응지수(CCPI) 2018, 검토 결과 한국 58위(60개국 중) \" ...</td>\n",
       "      <td>110</td>\n",
       "      <td>2018-08-09</td>\n",
       "    </tr>\n",
       "    <tr>\n",
       "      <td>227</td>\n",
       "      <td>10</td>\n",
       "      <td>불법 체류자, 외국인 근로자를 제한하고, 대한민국 국민의 일자리를 보호해 주십시오.</td>\n",
       "      <td>기타</td>\n",
       "      <td>&lt;현재 불법 체류자. 외국인 근로자 급증이 사회적 문제로 떠오르고 있습니다.&gt;현재 ...</td>\n",
       "      <td>132</td>\n",
       "      <td>2018-08-06</td>\n",
       "    </tr>\n",
       "    <tr>\n",
       "      <td>230</td>\n",
       "      <td>6</td>\n",
       "      <td>난민법, 무사증, NAP 폐지하고, 외국인 의료혜택과 교육비 지급을 중단해주십시오</td>\n",
       "      <td>인권/평등</td>\n",
       "      <td>불법난민과 불법체류자, 외노자들에 의해 자국민에 대한 역차별이 일어나고 있습니다.자...</td>\n",
       "      <td>119</td>\n",
       "      <td>2018-08-03</td>\n",
       "    </tr>\n",
       "  </tbody>\n",
       "</table>\n",
       "</div>"
      ],
      "text/plain": [
       "     sgld                                              title category  \\\n",
       "106   165      공무원도 근로자입니다. 5월 1일 근로자의 날 공무원도 쉴 수 있도록 해주십시오.    인권/평등   \n",
       "119   152                           사회적경제 활성화를 위한 계약제도 개선 제안     일반행정   \n",
       "140   131                          공직자 임용 및 선출직 입후보 배제 원칙 강화    반부패청렴   \n",
       "160    85                        올바른 119신고의 중요성과 신고방법 교육 의무화       안전   \n",
       "172    71  인공지능 담당관(CoAIO, Chief of Artificial Intelligen...     일반행정   \n",
       "177    66                          유전병인 희귀병 소뇌위축증 환우들을 도와주세요     보건복지   \n",
       "178    65                             보건소에서 난임시술 관련주사 맞게해주세요     보건복지   \n",
       "179    64                                    난임지원확대 첫아이 횟수패지     보건복지   \n",
       "180    63                     난임 건강보험 지원, 임산부처럼 바우처로 제공해 주세요     보건복지   \n",
       "207    32                                    종이 당직일지 이제는 안녕!     일반행정   \n",
       "219    19           기후변화에 대한 능동적 대응과 국가 산업생태계 조성을 위한, 마중물 필요       환경   \n",
       "227    10     불법 체류자, 외국인 근로자를 제한하고, 대한민국 국민의 일자리를 보호해 주십시오.       기타   \n",
       "230     6      난민법, 무사증, NAP 폐지하고, 외국인 의료혜택과 교육비 지급을 중단해주십시오    인권/평등   \n",
       "\n",
       "                                               content  vote      start  \n",
       "106  1.근로자의 날(5월1일)은 세계적으로May-day로 기념하며 노동시간 기준을8시간...   409 2019-04-25  \n",
       "119  저는 서울특별시 사회적경제지원센터 공공구매영업지원단을 책임지고 있는 이철종입니다.사...   194 2019-02-24  \n",
       "140  선출직이든 정무직이든 일반직이든 입법 행정 사법 3부 및 전국 지자체의모든 공무원은...   119 2018-12-05  \n",
       "160  안녕하세요!현재 시민안전파수꾼 청년 애드보케트라는 활동을 하면서 시민들의 초기대응능...   133 2018-10-22  \n",
       "172  저는 1990년 후반에 정보화담당관(CIO) 제도 도입에 대한 의견을 제시하여 시행...   126 2018-10-10  \n",
       "177  안녕하세요 저희 외갓집 어른들이 앓고 있는 소뇌위축증을알려드리려합니다.총 6남매중 ...   460 2018-10-05  \n",
       "178  시험관을 하게되면 이식후 약2주간 프로게스테론 주사를 처방받게됩니다피검사후 임신수치...  1115 2018-10-03  \n",
       "179  요즘 뉴스에 심심치않게 저출산 관련내용이많이나옵니다정부에선 많은 계획을말했지만 정작...  2037 2018-10-02  \n",
       "180  현황)2017년 10월부터 법률혼 난임부부에게 인공수정 3회, 체외수정 신선 4회,...  1693 2018-10-02  \n",
       "207  과제명 : 당직근무일지 전산화* 꼭 필요시 월별 출력 보관국가공무원 복무규칙 제25...   167 2018-09-04  \n",
       "219  ○ 기후변화대응지수(CCPI) 2018, 검토 결과 한국 58위(60개국 중) \" ...   110 2018-08-09  \n",
       "227  <현재 불법 체류자. 외국인 근로자 급증이 사회적 문제로 떠오르고 있습니다.>현재 ...   132 2018-08-06  \n",
       "230  불법난민과 불법체류자, 외노자들에 의해 자국민에 대한 역차별이 일어나고 있습니다.자...   119 2018-08-03  "
      ]
     },
     "execution_count": 37,
     "metadata": {},
     "output_type": "execute_result"
    }
   ],
   "source": [
    "df_vote_100 = df.loc[df['vote']>100, preview_columns]\n",
    "print('100개 이상 투표를 받은 제안 : ', len(df_vote_100))\n",
    "df_vote_100"
   ]
  },
  {
   "cell_type": "code",
   "execution_count": 38,
   "metadata": {},
   "outputs": [
    {
     "data": {
      "text/html": [
       "<div>\n",
       "<style scoped>\n",
       "    .dataframe tbody tr th:only-of-type {\n",
       "        vertical-align: middle;\n",
       "    }\n",
       "\n",
       "    .dataframe tbody tr th {\n",
       "        vertical-align: top;\n",
       "    }\n",
       "\n",
       "    .dataframe thead th {\n",
       "        text-align: right;\n",
       "    }\n",
       "</style>\n",
       "<table border=\"1\" class=\"dataframe\">\n",
       "  <thead>\n",
       "    <tr style=\"text-align: right;\">\n",
       "      <th></th>\n",
       "      <th>sgld</th>\n",
       "      <th>title</th>\n",
       "      <th>category</th>\n",
       "      <th>content</th>\n",
       "      <th>start</th>\n",
       "      <th>end</th>\n",
       "      <th>vote</th>\n",
       "      <th>author</th>\n",
       "      <th>start-date</th>\n",
       "      <th>start-month</th>\n",
       "      <th>start-weekday</th>\n",
       "      <th>weekday</th>\n",
       "      <th>close</th>\n",
       "    </tr>\n",
       "  </thead>\n",
       "  <tbody>\n",
       "    <tr>\n",
       "      <td>119</td>\n",
       "      <td>152</td>\n",
       "      <td>사회적경제 활성화를 위한 계약제도 개선 제안</td>\n",
       "      <td>일반행정</td>\n",
       "      <td>저는 서울특별시 사회적경제지원센터 공공구매영업지원단을 책임지고 있는 이철종입니다.사...</td>\n",
       "      <td>2019-02-24</td>\n",
       "      <td>2019-05-24</td>\n",
       "      <td>194</td>\n",
       "      <td>무한소</td>\n",
       "      <td>2019-02-24</td>\n",
       "      <td>2019-2</td>\n",
       "      <td>6</td>\n",
       "      <td>일</td>\n",
       "      <td>True</td>\n",
       "    </tr>\n",
       "    <tr>\n",
       "      <td>207</td>\n",
       "      <td>32</td>\n",
       "      <td>종이 당직일지 이제는 안녕!</td>\n",
       "      <td>일반행정</td>\n",
       "      <td>과제명 : 당직근무일지 전산화* 꼭 필요시 월별 출력 보관국가공무원 복무규칙 제25...</td>\n",
       "      <td>2018-09-04</td>\n",
       "      <td>2018-12-02</td>\n",
       "      <td>167</td>\n",
       "      <td>NaN</td>\n",
       "      <td>2018-09-04</td>\n",
       "      <td>2018-9</td>\n",
       "      <td>1</td>\n",
       "      <td>화</td>\n",
       "      <td>True</td>\n",
       "    </tr>\n",
       "    <tr>\n",
       "      <td>172</td>\n",
       "      <td>71</td>\n",
       "      <td>인공지능 담당관(CoAIO, Chief of Artificial Intelligen...</td>\n",
       "      <td>일반행정</td>\n",
       "      <td>저는 1990년 후반에 정보화담당관(CIO) 제도 도입에 대한 의견을 제시하여 시행...</td>\n",
       "      <td>2018-10-10</td>\n",
       "      <td>2019-01-07</td>\n",
       "      <td>126</td>\n",
       "      <td>안전역량</td>\n",
       "      <td>2018-10-10</td>\n",
       "      <td>2018-10</td>\n",
       "      <td>2</td>\n",
       "      <td>수</td>\n",
       "      <td>True</td>\n",
       "    </tr>\n",
       "    <tr>\n",
       "      <td>171</td>\n",
       "      <td>72</td>\n",
       "      <td>정부부처 공모사업을 한눈에 보고싶습니다.</td>\n",
       "      <td>일반행정</td>\n",
       "      <td>저는 지자체에서 혁신업무 및 기획업무를 담당하고있습니다.작은 지방이라 공모사업 선정...</td>\n",
       "      <td>2018-10-10</td>\n",
       "      <td>2019-01-07</td>\n",
       "      <td>33</td>\n",
       "      <td>혁신선두</td>\n",
       "      <td>2018-10-10</td>\n",
       "      <td>2018-10</td>\n",
       "      <td>2</td>\n",
       "      <td>수</td>\n",
       "      <td>True</td>\n",
       "    </tr>\n",
       "    <tr>\n",
       "      <td>38</td>\n",
       "      <td>240</td>\n",
       "      <td>청와대공무직공개채용</td>\n",
       "      <td>일반행정</td>\n",
       "      <td>현재 각 공공기관이나 중앙부처등등 공공시설에서근무하는 청사미화원.조경.방호 등등.....</td>\n",
       "      <td>2019-08-28</td>\n",
       "      <td>2019-11-25</td>\n",
       "      <td>17</td>\n",
       "      <td>인생2모작</td>\n",
       "      <td>2019-08-28</td>\n",
       "      <td>2019-8</td>\n",
       "      <td>2</td>\n",
       "      <td>수</td>\n",
       "      <td>False</td>\n",
       "    </tr>\n",
       "  </tbody>\n",
       "</table>\n",
       "</div>"
      ],
      "text/plain": [
       "     sgld                                              title category  \\\n",
       "119   152                           사회적경제 활성화를 위한 계약제도 개선 제안     일반행정   \n",
       "207    32                                    종이 당직일지 이제는 안녕!     일반행정   \n",
       "172    71  인공지능 담당관(CoAIO, Chief of Artificial Intelligen...     일반행정   \n",
       "171    72                             정부부처 공모사업을 한눈에 보고싶습니다.     일반행정   \n",
       "38    240                                         청와대공무직공개채용     일반행정   \n",
       "\n",
       "                                               content      start        end  \\\n",
       "119  저는 서울특별시 사회적경제지원센터 공공구매영업지원단을 책임지고 있는 이철종입니다.사... 2019-02-24 2019-05-24   \n",
       "207  과제명 : 당직근무일지 전산화* 꼭 필요시 월별 출력 보관국가공무원 복무규칙 제25... 2018-09-04 2018-12-02   \n",
       "172  저는 1990년 후반에 정보화담당관(CIO) 제도 도입에 대한 의견을 제시하여 시행... 2018-10-10 2019-01-07   \n",
       "171  저는 지자체에서 혁신업무 및 기획업무를 담당하고있습니다.작은 지방이라 공모사업 선정... 2018-10-10 2019-01-07   \n",
       "38   현재 각 공공기관이나 중앙부처등등 공공시설에서근무하는 청사미화원.조경.방호 등등..... 2019-08-28 2019-11-25   \n",
       "\n",
       "     vote author  start-date start-month  start-weekday weekday  close  \n",
       "119   194    무한소  2019-02-24      2019-2              6       일   True  \n",
       "207   167    NaN  2018-09-04      2018-9              1       화   True  \n",
       "172   126   안전역량  2018-10-10     2018-10              2       수   True  \n",
       "171    33   혁신선두  2018-10-10     2018-10              2       수   True  \n",
       "38     17  인생2모작  2019-08-28      2019-8              2       수  False  "
      ]
     },
     "execution_count": 38,
     "metadata": {},
     "output_type": "execute_result"
    }
   ],
   "source": [
    "df[df['category'] == '일반행정'].sort_values(by = 'vote', ascending = False).head()"
   ]
  }
 ],
 "metadata": {
  "kernelspec": {
   "display_name": "Python 3",
   "language": "python",
   "name": "python3"
  },
  "language_info": {
   "codemirror_mode": {
    "name": "ipython",
    "version": 3
   },
   "file_extension": ".py",
   "mimetype": "text/x-python",
   "name": "python",
   "nbconvert_exporter": "python",
   "pygments_lexer": "ipython3",
   "version": "3.7.6"
  }
 },
 "nbformat": 4,
 "nbformat_minor": 2
}
